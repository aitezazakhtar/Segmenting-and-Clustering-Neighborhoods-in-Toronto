{
 "cells": [
  {
   "cell_type": "markdown",
   "metadata": {},
   "source": [
    "# Segmenting and Clustering Neighborhoods in Toronto"
   ]
  },
  {
   "cell_type": "markdown",
   "metadata": {},
   "source": [
    "## Part 1 : Getting Data"
   ]
  },
  {
   "cell_type": "markdown",
   "metadata": {},
   "source": [
    "**We will get data from wikipedia website using Web Scraping**"
   ]
  },
  {
   "cell_type": "code",
   "execution_count": 1,
   "metadata": {},
   "outputs": [],
   "source": [
    "#import libraries\n",
    "from bs4 import BeautifulSoup #library for web scraping\n",
    "import requests\n",
    "import pandas as pd\n",
    "import numpy as np\n",
    "pd.set_option('display.max_columns', None)\n",
    "pd.set_option('display.max_rows', None)"
   ]
  },
  {
   "cell_type": "code",
   "execution_count": 2,
   "metadata": {},
   "outputs": [],
   "source": [
    "source = requests.get('https://en.wikipedia.org/wiki/List_of_postal_codes_of_Canada:_M').text\n",
    "soup = BeautifulSoup(source,'lxml')\n",
    "table = soup.table"
   ]
  },
  {
   "cell_type": "code",
   "execution_count": 3,
   "metadata": {},
   "outputs": [],
   "source": [
    "#Find the respective data from tag and store in list\n",
    "postcode = []\n",
    "borough = []\n",
    "neighborhood = []\n",
    "\n",
    "for cell in table.find_all('td'):\n",
    "    postcode.append(cell.b.text)\n",
    "    borough.append(cell.span.text.split('(')[0])\n",
    "    try:\n",
    "        neigh = cell.span.text\n",
    "        #split neighborhood by brackets and repace / with ,\n",
    "        neighbor = ''.join(neigh.split('(')[1].split(')'))\n",
    "        neighborhood.append(neighbor.replace('/',','))  \n",
    "    except Exception as e:\n",
    "        neighborhood.append('Not assigned')"
   ]
  },
  {
   "cell_type": "markdown",
   "metadata": {},
   "source": [
    "**Converting data into Dataframe**"
   ]
  },
  {
   "cell_type": "code",
   "execution_count": 4,
   "metadata": {
    "scrolled": false
   },
   "outputs": [
    {
     "data": {
      "text/html": [
       "<div>\n",
       "<style scoped>\n",
       "    .dataframe tbody tr th:only-of-type {\n",
       "        vertical-align: middle;\n",
       "    }\n",
       "\n",
       "    .dataframe tbody tr th {\n",
       "        vertical-align: top;\n",
       "    }\n",
       "\n",
       "    .dataframe thead th {\n",
       "        text-align: right;\n",
       "    }\n",
       "</style>\n",
       "<table border=\"1\" class=\"dataframe\">\n",
       "  <thead>\n",
       "    <tr style=\"text-align: right;\">\n",
       "      <th></th>\n",
       "      <th>PostalCode</th>\n",
       "      <th>Borough</th>\n",
       "      <th>Neighborhood</th>\n",
       "    </tr>\n",
       "  </thead>\n",
       "  <tbody>\n",
       "    <tr>\n",
       "      <th>0</th>\n",
       "      <td>M1A</td>\n",
       "      <td>Not assigned</td>\n",
       "      <td>Not assigned</td>\n",
       "    </tr>\n",
       "    <tr>\n",
       "      <th>1</th>\n",
       "      <td>M2A</td>\n",
       "      <td>Not assigned</td>\n",
       "      <td>Not assigned</td>\n",
       "    </tr>\n",
       "    <tr>\n",
       "      <th>2</th>\n",
       "      <td>M3A</td>\n",
       "      <td>North York</td>\n",
       "      <td>Parkwoods</td>\n",
       "    </tr>\n",
       "    <tr>\n",
       "      <th>3</th>\n",
       "      <td>M4A</td>\n",
       "      <td>North York</td>\n",
       "      <td>Victoria Village</td>\n",
       "    </tr>\n",
       "    <tr>\n",
       "      <th>4</th>\n",
       "      <td>M5A</td>\n",
       "      <td>Downtown Toronto</td>\n",
       "      <td>Regent Park , Harbourfront</td>\n",
       "    </tr>\n",
       "  </tbody>\n",
       "</table>\n",
       "</div>"
      ],
      "text/plain": [
       "  PostalCode           Borough                Neighborhood\n",
       "0        M1A      Not assigned                Not assigned\n",
       "1        M2A      Not assigned                Not assigned\n",
       "2        M3A        North York                   Parkwoods\n",
       "3        M4A        North York            Victoria Village\n",
       "4        M5A  Downtown Toronto  Regent Park , Harbourfront"
      ]
     },
     "execution_count": 4,
     "metadata": {},
     "output_type": "execute_result"
    }
   ],
   "source": [
    "df = pd.DataFrame(list(zip(postcode,borough,neighborhood)),columns=['PostalCode','Borough','Neighborhood'])\n",
    "df.head()"
   ]
  },
  {
   "cell_type": "code",
   "execution_count": 5,
   "metadata": {},
   "outputs": [
    {
     "data": {
      "text/plain": [
       "(180, 3)"
      ]
     },
     "execution_count": 5,
     "metadata": {},
     "output_type": "execute_result"
    }
   ],
   "source": [
    "df.shape"
   ]
  },
  {
   "cell_type": "markdown",
   "metadata": {},
   "source": [
    "## Data Cleaning"
   ]
  },
  {
   "cell_type": "markdown",
   "metadata": {},
   "source": [
    "1. Only process the cells that have an assigned borough. Ignore cells with a borough that is Not assigned."
   ]
  },
  {
   "cell_type": "code",
   "execution_count": 6,
   "metadata": {
    "scrolled": true
   },
   "outputs": [
    {
     "data": {
      "text/plain": [
       "77"
      ]
     },
     "execution_count": 6,
     "metadata": {},
     "output_type": "execute_result"
    }
   ],
   "source": [
    "#first check\n",
    "len(df[df['Borough'] == 'Not assigned'])"
   ]
  },
  {
   "cell_type": "code",
   "execution_count": 7,
   "metadata": {
    "scrolled": true
   },
   "outputs": [
    {
     "data": {
      "text/html": [
       "<div>\n",
       "<style scoped>\n",
       "    .dataframe tbody tr th:only-of-type {\n",
       "        vertical-align: middle;\n",
       "    }\n",
       "\n",
       "    .dataframe tbody tr th {\n",
       "        vertical-align: top;\n",
       "    }\n",
       "\n",
       "    .dataframe thead th {\n",
       "        text-align: right;\n",
       "    }\n",
       "</style>\n",
       "<table border=\"1\" class=\"dataframe\">\n",
       "  <thead>\n",
       "    <tr style=\"text-align: right;\">\n",
       "      <th></th>\n",
       "      <th>PostalCode</th>\n",
       "      <th>Borough</th>\n",
       "      <th>Neighborhood</th>\n",
       "    </tr>\n",
       "  </thead>\n",
       "  <tbody>\n",
       "    <tr>\n",
       "      <th>2</th>\n",
       "      <td>M3A</td>\n",
       "      <td>North York</td>\n",
       "      <td>Parkwoods</td>\n",
       "    </tr>\n",
       "    <tr>\n",
       "      <th>3</th>\n",
       "      <td>M4A</td>\n",
       "      <td>North York</td>\n",
       "      <td>Victoria Village</td>\n",
       "    </tr>\n",
       "    <tr>\n",
       "      <th>4</th>\n",
       "      <td>M5A</td>\n",
       "      <td>Downtown Toronto</td>\n",
       "      <td>Regent Park , Harbourfront</td>\n",
       "    </tr>\n",
       "    <tr>\n",
       "      <th>5</th>\n",
       "      <td>M6A</td>\n",
       "      <td>North York</td>\n",
       "      <td>Lawrence Manor , Lawrence Heights</td>\n",
       "    </tr>\n",
       "    <tr>\n",
       "      <th>6</th>\n",
       "      <td>M7A</td>\n",
       "      <td>Queen's Park / Ontario Provincial Government</td>\n",
       "      <td>Not assigned</td>\n",
       "    </tr>\n",
       "  </tbody>\n",
       "</table>\n",
       "</div>"
      ],
      "text/plain": [
       "  PostalCode                                       Borough  \\\n",
       "2        M3A                                    North York   \n",
       "3        M4A                                    North York   \n",
       "4        M5A                              Downtown Toronto   \n",
       "5        M6A                                    North York   \n",
       "6        M7A  Queen's Park / Ontario Provincial Government   \n",
       "\n",
       "                        Neighborhood  \n",
       "2                          Parkwoods  \n",
       "3                   Victoria Village  \n",
       "4         Regent Park , Harbourfront  \n",
       "5  Lawrence Manor , Lawrence Heights  \n",
       "6                       Not assigned  "
      ]
     },
     "execution_count": 7,
     "metadata": {},
     "output_type": "execute_result"
    }
   ],
   "source": [
    "#drop rows\n",
    "df = df.drop(df[df['Borough'] == 'Not assigned'].index)\n",
    "df.head()"
   ]
  },
  {
   "cell_type": "code",
   "execution_count": 8,
   "metadata": {},
   "outputs": [
    {
     "data": {
      "text/plain": [
       "0"
      ]
     },
     "execution_count": 8,
     "metadata": {},
     "output_type": "execute_result"
    }
   ],
   "source": [
    "#check again\n",
    "len(df[df['Borough'] == 'Not assigned'])"
   ]
  },
  {
   "cell_type": "code",
   "execution_count": 9,
   "metadata": {},
   "outputs": [
    {
     "data": {
      "text/plain": [
       "(103, 3)"
      ]
     },
     "execution_count": 9,
     "metadata": {},
     "output_type": "execute_result"
    }
   ],
   "source": [
    "df.shape"
   ]
  },
  {
   "cell_type": "markdown",
   "metadata": {},
   "source": [
    "2. If a cell has a borough but a Not assigned neighborhood, then the neighborhood will be the same as the borough."
   ]
  },
  {
   "cell_type": "code",
   "execution_count": 10,
   "metadata": {},
   "outputs": [
    {
     "data": {
      "text/html": [
       "<div>\n",
       "<style scoped>\n",
       "    .dataframe tbody tr th:only-of-type {\n",
       "        vertical-align: middle;\n",
       "    }\n",
       "\n",
       "    .dataframe tbody tr th {\n",
       "        vertical-align: top;\n",
       "    }\n",
       "\n",
       "    .dataframe thead th {\n",
       "        text-align: right;\n",
       "    }\n",
       "</style>\n",
       "<table border=\"1\" class=\"dataframe\">\n",
       "  <thead>\n",
       "    <tr style=\"text-align: right;\">\n",
       "      <th></th>\n",
       "      <th>PostalCode</th>\n",
       "      <th>Borough</th>\n",
       "      <th>Neighborhood</th>\n",
       "    </tr>\n",
       "  </thead>\n",
       "  <tbody>\n",
       "    <tr>\n",
       "      <th>6</th>\n",
       "      <td>M7A</td>\n",
       "      <td>Queen's Park / Ontario Provincial Government</td>\n",
       "      <td>Not assigned</td>\n",
       "    </tr>\n",
       "  </tbody>\n",
       "</table>\n",
       "</div>"
      ],
      "text/plain": [
       "  PostalCode                                       Borough  Neighborhood\n",
       "6        M7A  Queen's Park / Ontario Provincial Government  Not assigned"
      ]
     },
     "execution_count": 10,
     "metadata": {},
     "output_type": "execute_result"
    }
   ],
   "source": [
    "#first check\n",
    "df[df['Neighborhood'] == 'Not assigned']"
   ]
  },
  {
   "cell_type": "code",
   "execution_count": 11,
   "metadata": {},
   "outputs": [],
   "source": [
    "#replace\n",
    "df.loc[df['Neighborhood'] == 'Not Assigned', 'Neighborhood'] = df['Borough']"
   ]
  },
  {
   "cell_type": "code",
   "execution_count": 12,
   "metadata": {},
   "outputs": [
    {
     "data": {
      "text/html": [
       "<div>\n",
       "<style scoped>\n",
       "    .dataframe tbody tr th:only-of-type {\n",
       "        vertical-align: middle;\n",
       "    }\n",
       "\n",
       "    .dataframe tbody tr th {\n",
       "        vertical-align: top;\n",
       "    }\n",
       "\n",
       "    .dataframe thead th {\n",
       "        text-align: right;\n",
       "    }\n",
       "</style>\n",
       "<table border=\"1\" class=\"dataframe\">\n",
       "  <thead>\n",
       "    <tr style=\"text-align: right;\">\n",
       "      <th></th>\n",
       "      <th>PostalCode</th>\n",
       "      <th>Borough</th>\n",
       "      <th>Neighborhood</th>\n",
       "    </tr>\n",
       "  </thead>\n",
       "  <tbody>\n",
       "  </tbody>\n",
       "</table>\n",
       "</div>"
      ],
      "text/plain": [
       "Empty DataFrame\n",
       "Columns: [PostalCode, Borough, Neighborhood]\n",
       "Index: []"
      ]
     },
     "execution_count": 12,
     "metadata": {},
     "output_type": "execute_result"
    }
   ],
   "source": [
    "#check again\n",
    "df[df['Neighborhood'] == 'Not Assigned'][0:5]"
   ]
  },
  {
   "cell_type": "code",
   "execution_count": 13,
   "metadata": {},
   "outputs": [
    {
     "data": {
      "text/html": [
       "<div>\n",
       "<style scoped>\n",
       "    .dataframe tbody tr th:only-of-type {\n",
       "        vertical-align: middle;\n",
       "    }\n",
       "\n",
       "    .dataframe tbody tr th {\n",
       "        vertical-align: top;\n",
       "    }\n",
       "\n",
       "    .dataframe thead th {\n",
       "        text-align: right;\n",
       "    }\n",
       "</style>\n",
       "<table border=\"1\" class=\"dataframe\">\n",
       "  <thead>\n",
       "    <tr style=\"text-align: right;\">\n",
       "      <th></th>\n",
       "      <th>PostalCode</th>\n",
       "      <th>Borough</th>\n",
       "      <th>Neighborhood</th>\n",
       "    </tr>\n",
       "  </thead>\n",
       "  <tbody>\n",
       "    <tr>\n",
       "      <th>2</th>\n",
       "      <td>M3A</td>\n",
       "      <td>North York</td>\n",
       "      <td>Parkwoods</td>\n",
       "    </tr>\n",
       "    <tr>\n",
       "      <th>3</th>\n",
       "      <td>M4A</td>\n",
       "      <td>North York</td>\n",
       "      <td>Victoria Village</td>\n",
       "    </tr>\n",
       "    <tr>\n",
       "      <th>4</th>\n",
       "      <td>M5A</td>\n",
       "      <td>Downtown Toronto</td>\n",
       "      <td>Regent Park , Harbourfront</td>\n",
       "    </tr>\n",
       "    <tr>\n",
       "      <th>5</th>\n",
       "      <td>M6A</td>\n",
       "      <td>North York</td>\n",
       "      <td>Lawrence Manor , Lawrence Heights</td>\n",
       "    </tr>\n",
       "    <tr>\n",
       "      <th>6</th>\n",
       "      <td>M7A</td>\n",
       "      <td>Queen's Park / Ontario Provincial Government</td>\n",
       "      <td>Not assigned</td>\n",
       "    </tr>\n",
       "  </tbody>\n",
       "</table>\n",
       "</div>"
      ],
      "text/plain": [
       "  PostalCode                                       Borough  \\\n",
       "2        M3A                                    North York   \n",
       "3        M4A                                    North York   \n",
       "4        M5A                              Downtown Toronto   \n",
       "5        M6A                                    North York   \n",
       "6        M7A  Queen's Park / Ontario Provincial Government   \n",
       "\n",
       "                        Neighborhood  \n",
       "2                          Parkwoods  \n",
       "3                   Victoria Village  \n",
       "4         Regent Park , Harbourfront  \n",
       "5  Lawrence Manor , Lawrence Heights  \n",
       "6                       Not assigned  "
      ]
     },
     "execution_count": 13,
     "metadata": {},
     "output_type": "execute_result"
    }
   ],
   "source": [
    "df.head()"
   ]
  },
  {
   "cell_type": "code",
   "execution_count": 14,
   "metadata": {},
   "outputs": [
    {
     "data": {
      "text/plain": [
       "(103, 3)"
      ]
     },
     "execution_count": 14,
     "metadata": {},
     "output_type": "execute_result"
    }
   ],
   "source": [
    "#number of rows and column of dataframe\n",
    "df.shape"
   ]
  },
  {
   "cell_type": "markdown",
   "metadata": {},
   "source": [
    "#   "
   ]
  },
  {
   "cell_type": "markdown",
   "metadata": {},
   "source": [
    "## Part 2 : Extracting the Latitude and Longitude"
   ]
  },
  {
   "cell_type": "code",
   "execution_count": 15,
   "metadata": {},
   "outputs": [
    {
     "data": {
      "text/html": [
       "<div>\n",
       "<style scoped>\n",
       "    .dataframe tbody tr th:only-of-type {\n",
       "        vertical-align: middle;\n",
       "    }\n",
       "\n",
       "    .dataframe tbody tr th {\n",
       "        vertical-align: top;\n",
       "    }\n",
       "\n",
       "    .dataframe thead th {\n",
       "        text-align: right;\n",
       "    }\n",
       "</style>\n",
       "<table border=\"1\" class=\"dataframe\">\n",
       "  <thead>\n",
       "    <tr style=\"text-align: right;\">\n",
       "      <th></th>\n",
       "      <th>Postal Code</th>\n",
       "      <th>Latitude</th>\n",
       "      <th>Longitude</th>\n",
       "    </tr>\n",
       "  </thead>\n",
       "  <tbody>\n",
       "    <tr>\n",
       "      <th>0</th>\n",
       "      <td>M1B</td>\n",
       "      <td>43.806686</td>\n",
       "      <td>-79.194353</td>\n",
       "    </tr>\n",
       "    <tr>\n",
       "      <th>1</th>\n",
       "      <td>M1C</td>\n",
       "      <td>43.784535</td>\n",
       "      <td>-79.160497</td>\n",
       "    </tr>\n",
       "    <tr>\n",
       "      <th>2</th>\n",
       "      <td>M1E</td>\n",
       "      <td>43.763573</td>\n",
       "      <td>-79.188711</td>\n",
       "    </tr>\n",
       "    <tr>\n",
       "      <th>3</th>\n",
       "      <td>M1G</td>\n",
       "      <td>43.770992</td>\n",
       "      <td>-79.216917</td>\n",
       "    </tr>\n",
       "    <tr>\n",
       "      <th>4</th>\n",
       "      <td>M1H</td>\n",
       "      <td>43.773136</td>\n",
       "      <td>-79.239476</td>\n",
       "    </tr>\n",
       "  </tbody>\n",
       "</table>\n",
       "</div>"
      ],
      "text/plain": [
       "  Postal Code   Latitude  Longitude\n",
       "0         M1B  43.806686 -79.194353\n",
       "1         M1C  43.784535 -79.160497\n",
       "2         M1E  43.763573 -79.188711\n",
       "3         M1G  43.770992 -79.216917\n",
       "4         M1H  43.773136 -79.239476"
      ]
     },
     "execution_count": 15,
     "metadata": {},
     "output_type": "execute_result"
    }
   ],
   "source": [
    "#Second dataframe which has latitude and longitude \n",
    "path = 'http://cocl.us/Geospatial_data'\n",
    "df_lat_lng = pd.read_csv(path)\n",
    "df_lat_lng.head()"
   ]
  },
  {
   "cell_type": "code",
   "execution_count": 16,
   "metadata": {},
   "outputs": [
    {
     "data": {
      "text/html": [
       "<div>\n",
       "<style scoped>\n",
       "    .dataframe tbody tr th:only-of-type {\n",
       "        vertical-align: middle;\n",
       "    }\n",
       "\n",
       "    .dataframe tbody tr th {\n",
       "        vertical-align: top;\n",
       "    }\n",
       "\n",
       "    .dataframe thead th {\n",
       "        text-align: right;\n",
       "    }\n",
       "</style>\n",
       "<table border=\"1\" class=\"dataframe\">\n",
       "  <thead>\n",
       "    <tr style=\"text-align: right;\">\n",
       "      <th></th>\n",
       "      <th>PostalCode</th>\n",
       "      <th>Latitude</th>\n",
       "      <th>Longitude</th>\n",
       "    </tr>\n",
       "  </thead>\n",
       "  <tbody>\n",
       "    <tr>\n",
       "      <th>0</th>\n",
       "      <td>M1B</td>\n",
       "      <td>43.806686</td>\n",
       "      <td>-79.194353</td>\n",
       "    </tr>\n",
       "    <tr>\n",
       "      <th>1</th>\n",
       "      <td>M1C</td>\n",
       "      <td>43.784535</td>\n",
       "      <td>-79.160497</td>\n",
       "    </tr>\n",
       "    <tr>\n",
       "      <th>2</th>\n",
       "      <td>M1E</td>\n",
       "      <td>43.763573</td>\n",
       "      <td>-79.188711</td>\n",
       "    </tr>\n",
       "    <tr>\n",
       "      <th>3</th>\n",
       "      <td>M1G</td>\n",
       "      <td>43.770992</td>\n",
       "      <td>-79.216917</td>\n",
       "    </tr>\n",
       "    <tr>\n",
       "      <th>4</th>\n",
       "      <td>M1H</td>\n",
       "      <td>43.773136</td>\n",
       "      <td>-79.239476</td>\n",
       "    </tr>\n",
       "  </tbody>\n",
       "</table>\n",
       "</div>"
      ],
      "text/plain": [
       "  PostalCode   Latitude  Longitude\n",
       "0        M1B  43.806686 -79.194353\n",
       "1        M1C  43.784535 -79.160497\n",
       "2        M1E  43.763573 -79.188711\n",
       "3        M1G  43.770992 -79.216917\n",
       "4        M1H  43.773136 -79.239476"
      ]
     },
     "execution_count": 16,
     "metadata": {},
     "output_type": "execute_result"
    }
   ],
   "source": [
    "#Changing the column name Postal code to Postcode to merge the two data frames together\n",
    "df_lat_lng.columns = ['PostalCode','Latitude','Longitude']\n",
    "df_lat_lng.head()"
   ]
  },
  {
   "cell_type": "code",
   "execution_count": 17,
   "metadata": {},
   "outputs": [
    {
     "data": {
      "text/plain": [
       "(103, 3)"
      ]
     },
     "execution_count": 17,
     "metadata": {},
     "output_type": "execute_result"
    }
   ],
   "source": [
    "df_lat_lng.shape"
   ]
  },
  {
   "cell_type": "code",
   "execution_count": 18,
   "metadata": {},
   "outputs": [
    {
     "data": {
      "text/html": [
       "<div>\n",
       "<style scoped>\n",
       "    .dataframe tbody tr th:only-of-type {\n",
       "        vertical-align: middle;\n",
       "    }\n",
       "\n",
       "    .dataframe tbody tr th {\n",
       "        vertical-align: top;\n",
       "    }\n",
       "\n",
       "    .dataframe thead th {\n",
       "        text-align: right;\n",
       "    }\n",
       "</style>\n",
       "<table border=\"1\" class=\"dataframe\">\n",
       "  <thead>\n",
       "    <tr style=\"text-align: right;\">\n",
       "      <th></th>\n",
       "      <th>PostalCode</th>\n",
       "      <th>Borough</th>\n",
       "      <th>Neighborhood</th>\n",
       "      <th>Latitude</th>\n",
       "      <th>Longitude</th>\n",
       "    </tr>\n",
       "  </thead>\n",
       "  <tbody>\n",
       "    <tr>\n",
       "      <th>0</th>\n",
       "      <td>M3A</td>\n",
       "      <td>North York</td>\n",
       "      <td>Parkwoods</td>\n",
       "      <td>43.753259</td>\n",
       "      <td>-79.329656</td>\n",
       "    </tr>\n",
       "    <tr>\n",
       "      <th>1</th>\n",
       "      <td>M4A</td>\n",
       "      <td>North York</td>\n",
       "      <td>Victoria Village</td>\n",
       "      <td>43.725882</td>\n",
       "      <td>-79.315572</td>\n",
       "    </tr>\n",
       "    <tr>\n",
       "      <th>2</th>\n",
       "      <td>M5A</td>\n",
       "      <td>Downtown Toronto</td>\n",
       "      <td>Regent Park , Harbourfront</td>\n",
       "      <td>43.654260</td>\n",
       "      <td>-79.360636</td>\n",
       "    </tr>\n",
       "    <tr>\n",
       "      <th>3</th>\n",
       "      <td>M6A</td>\n",
       "      <td>North York</td>\n",
       "      <td>Lawrence Manor , Lawrence Heights</td>\n",
       "      <td>43.718518</td>\n",
       "      <td>-79.464763</td>\n",
       "    </tr>\n",
       "    <tr>\n",
       "      <th>4</th>\n",
       "      <td>M7A</td>\n",
       "      <td>Queen's Park / Ontario Provincial Government</td>\n",
       "      <td>Not assigned</td>\n",
       "      <td>43.662301</td>\n",
       "      <td>-79.389494</td>\n",
       "    </tr>\n",
       "  </tbody>\n",
       "</table>\n",
       "</div>"
      ],
      "text/plain": [
       "  PostalCode                                       Borough  \\\n",
       "0        M3A                                    North York   \n",
       "1        M4A                                    North York   \n",
       "2        M5A                              Downtown Toronto   \n",
       "3        M6A                                    North York   \n",
       "4        M7A  Queen's Park / Ontario Provincial Government   \n",
       "\n",
       "                        Neighborhood   Latitude  Longitude  \n",
       "0                          Parkwoods  43.753259 -79.329656  \n",
       "1                   Victoria Village  43.725882 -79.315572  \n",
       "2         Regent Park , Harbourfront  43.654260 -79.360636  \n",
       "3  Lawrence Manor , Lawrence Heights  43.718518 -79.464763  \n",
       "4                       Not assigned  43.662301 -79.389494  "
      ]
     },
     "execution_count": 18,
     "metadata": {},
     "output_type": "execute_result"
    }
   ],
   "source": [
    "#Merging of both dataframe\n",
    "df_can = pd.merge(df,df_lat_lng, on='PostalCode')\n",
    "df_can.head()"
   ]
  },
  {
   "cell_type": "code",
   "execution_count": 19,
   "metadata": {},
   "outputs": [
    {
     "data": {
      "text/plain": [
       "(103, 3)"
      ]
     },
     "execution_count": 19,
     "metadata": {},
     "output_type": "execute_result"
    }
   ],
   "source": [
    "df.shape"
   ]
  },
  {
   "cell_type": "markdown",
   "metadata": {},
   "source": [
    "#     "
   ]
  },
  {
   "cell_type": "markdown",
   "metadata": {},
   "source": [
    "## Part 3 : Explore and cluster the neighborhoods in Toronto"
   ]
  },
  {
   "cell_type": "code",
   "execution_count": 22,
   "metadata": {},
   "outputs": [
    {
     "name": "stdout",
     "output_type": "stream",
     "text": [
      "Libraries imported.\n"
     ]
    }
   ],
   "source": [
    "import json # library to handle JSON files\n",
    "\n",
    "from geopy.geocoders import Nominatim # convert an address into latitude and longitude values\n",
    "\n",
    "import requests # library to handle requests\n",
    "from pandas.io.json import json_normalize # tranform JSON file into a pandas dataframe\n",
    "\n",
    "# Matplotlib and associated plotting modules\n",
    "import matplotlib.cm as cm\n",
    "import matplotlib.colors as colors\n",
    "\n",
    "# import k-means from clustering stage\n",
    "from sklearn.cluster import KMeans\n",
    "\n",
    "import folium # map rendering library\n",
    "\n",
    "print('Libraries imported.')"
   ]
  },
  {
   "cell_type": "markdown",
   "metadata": {},
   "source": [
    "**Find how many boroughs and neighborhoods**"
   ]
  },
  {
   "cell_type": "code",
   "execution_count": 40,
   "metadata": {},
   "outputs": [
    {
     "name": "stdout",
     "output_type": "stream",
     "text": [
      "The dataframe has 15 Borough and 103 Neighborhood\n"
     ]
    }
   ],
   "source": [
    "print(\"The dataframe has {} Borough and {} Neighborhood\".format(len(df_can['Borough'].unique()),len(df_can['Neighborhood'])))"
   ]
  },
  {
   "cell_type": "markdown",
   "metadata": {},
   "source": [
    "**Use geopy library to get the latitude and longitude values of Toronto**"
   ]
  },
  {
   "cell_type": "code",
   "execution_count": 60,
   "metadata": {},
   "outputs": [
    {
     "name": "stdout",
     "output_type": "stream",
     "text": [
      "The coordinates of Toronto are 43.653963 , -79.387207\n"
     ]
    }
   ],
   "source": [
    "address = \"Toronto, Ontario\"\n",
    "geolocator = Nominatim(user_agent='to_explorer')\n",
    "location = geolocator.geocode(address)\n",
    "latitude = location.latitude\n",
    "longitude = location.longitude\n",
    "print(\"The coordinates of Toronto are {} , {}\".format(latitude,longitude))"
   ]
  },
  {
   "cell_type": "markdown",
   "metadata": {},
   "source": [
    "**Create a map of Toronto with neighborhoods superimposed on top**"
   ]
  },
  {
   "cell_type": "code",
   "execution_count": 87,
   "metadata": {},
   "outputs": [
    {
     "data": {
      "text/html": [
       "<div style=\"width:100%;\"><div style=\"position:relative;width:100%;height:0;padding-bottom:60%;\"><iframe src=\"about:blank\" style=\"position:absolute;width:100%;height:100%;left:0;top:0;border:none !important;\" data-html=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 onload=\"this.contentDocument.open();this.contentDocument.write(atob(this.getAttribute('data-html')));this.contentDocument.close();\" allowfullscreen webkitallowfullscreen mozallowfullscreen></iframe></div></div>"
      ],
      "text/plain": [
       "<folium.folium.Map at 0x1de73db2048>"
      ]
     },
     "execution_count": 87,
     "metadata": {},
     "output_type": "execute_result"
    }
   ],
   "source": [
    "toronto_map = folium.Map(\n",
    "    location = [lat,lng],\n",
    "    zoom_start = 11\n",
    ")\n",
    "\n",
    "for lat,lng,borough,neighborhood in zip(df_can['Latitude'],df_can['Longitude'],df_can['Borough'],df_can['Neighborhood']):\n",
    "    label = '{}, {}'.format(neighborhood,borough)\n",
    "    label = folium.Popup(label,parse_html=True)\n",
    "    folium.CircleMarker(\n",
    "        [lat,lng],\n",
    "        radius = 10,\n",
    "        color='blue',\n",
    "        fill=True,\n",
    "        fill_color='#3186cc',\n",
    "        fill_opacity=0.7,\n",
    "        popup = label\n",
    "    ).add_to(toronto_map)\n",
    "    \n",
    "toronto_map"
   ]
  },
  {
   "cell_type": "markdown",
   "metadata": {},
   "source": [
    "**Utilizing the Foursquare API to explore the neighborhoods and segment them.**"
   ]
  },
  {
   "cell_type": "code",
   "execution_count": 103,
   "metadata": {},
   "outputs": [
    {
     "name": "stdout",
     "output_type": "stream",
     "text": [
      "Your credentails:\n",
      "CLIENT_ID: KAJZOUZF20UXDL2H3MOEBLTIHGQ2HK1PDJ14Z1R0QCAJCYVA\n",
      "CLIENT_SECRET:UOJCAODP5HOBJS1W451QQ3JQ3HSAWPQ2TL2WWMCJXLFAYD33\n"
     ]
    }
   ],
   "source": [
    "LIMIT = 100\n",
    "CLIENT_ID = 'KAJZOUZF20UXDL2H3MOEBLTIHGQ2HK1PDJ14Z1R0QCAJCYVA' # your Foursquare ID\n",
    "CLIENT_SECRET = 'UOJCAODP5HOBJS1W451QQ3JQ3HSAWPQ2TL2WWMCJXLFAYD33' # your Foursquare Secret\n",
    "VERSION = '20180605' # Foursquare API version\n",
    "\n",
    "print('Your credentails:')\n",
    "print('CLIENT_ID: ' + CLIENT_ID)\n",
    "print('CLIENT_SECRET:' + CLIENT_SECRET)"
   ]
  },
  {
   "cell_type": "markdown",
   "metadata": {},
   "source": [
    "**Let's explore the neighborhood in our dataframe**"
   ]
  },
  {
   "cell_type": "code",
   "execution_count": 104,
   "metadata": {},
   "outputs": [],
   "source": [
    "def getNearbyVenues(names, latitudes, longitudes, radius=500):    \n",
    "    venues_list=[]\n",
    "    for name, lat, lng in zip(names, latitudes, longitudes):\n",
    "        print(name)\n",
    "            \n",
    "        # create the API request URL\n",
    "        url = 'https://api.foursquare.com/v2/venues/explore?&client_id={}&client_secret={}&v={}&ll={},{}&radius={}&limit={}'.format(\n",
    "            CLIENT_ID, \n",
    "            CLIENT_SECRET, \n",
    "            VERSION, \n",
    "            lat, \n",
    "            lng, \n",
    "            radius, \n",
    "            LIMIT)\n",
    "            \n",
    "        # make the GET request\n",
    "        results = requests.get(url).json()[\"response\"]['groups'][0]['items']\n",
    "        \n",
    "        # return only relevant information for each nearby venue\n",
    "        venues_list.append([(\n",
    "            name, \n",
    "            lat, \n",
    "            lng, \n",
    "            v['venue']['name'], \n",
    "            v['venue']['location']['lat'], \n",
    "            v['venue']['location']['lng'],  \n",
    "            v['venue']['categories'][0]['name']) for v in results])\n",
    "\n",
    "    nearby_venues = pd.DataFrame([item for venue_list in venues_list for item in venue_list])\n",
    "    nearby_venues.columns = ['Neighborhood', \n",
    "                  'Neighborhood Latitude', \n",
    "                  'Neighborhood Longitude', \n",
    "                  'Venue', \n",
    "                  'Venue Latitude', \n",
    "                  'Venue Longitude', \n",
    "                  'Venue Category']\n",
    "    \n",
    "    return(nearby_venues)"
   ]
  },
  {
   "cell_type": "code",
   "execution_count": 105,
   "metadata": {},
   "outputs": [
    {
     "name": "stdout",
     "output_type": "stream",
     "text": [
      "Parkwoods\n",
      "Victoria Village\n",
      "Regent Park , Harbourfront\n",
      "Lawrence Manor , Lawrence Heights\n",
      "Not assigned\n",
      "Islington Avenue\n",
      "Malvern , Rouge\n",
      "Don MillsNorth\n",
      "Parkview Hill , Woodbine Gardens\n",
      "Garden District, Ryerson\n",
      "Glencairn\n",
      "West Deane Park , Princess Gardens , Martin Grove , Islington , Cloverdale\n",
      "Rouge Hill , Port Union , Highland Creek\n",
      "Don MillsSouth\n",
      "Woodbine Heights\n",
      "St. James Town\n",
      "Humewood-Cedarvale\n",
      "Eringate , Bloordale Gardens , Old Burnhamthorpe , Markland Wood\n",
      "Guildwood , Morningside , West Hill\n",
      "The Beaches\n",
      "Berczy Park\n",
      "Caledonia-Fairbanks\n",
      "Woburn\n",
      "Leaside\n",
      "Central Bay Street\n",
      "Christie\n",
      "Cedarbrae\n",
      "Hillcrest Village\n",
      "Bathurst Manor , Wilson Heights , Downsview North\n",
      "Thorncliffe Park\n",
      "Richmond , Adelaide , King\n",
      "Dufferin , Dovercourt Village\n",
      "Scarborough Village\n",
      "Fairview , Henry Farm , Oriole\n",
      "Northwood Park , York University\n",
      "The Danforth  East\n",
      "Harbourfront East , Union Station , Toronto Islands\n",
      "Little Portugal , Trinity\n",
      "Kennedy Park , Ionview , East Birchmount Park\n",
      "Bayview Village\n",
      "DownsviewEast  \n",
      "The Danforth West , Riverdale\n",
      "Toronto Dominion Centre , Design Exchange\n",
      "Brockton , Parkdale Village , Exhibition Place\n",
      "Golden Mile , Clairlea , Oakridge\n",
      "York Mills , Silver Hills\n",
      "DownsviewWest\n",
      "India Bazaar , The Beaches West\n",
      "Commerce Court , Victoria Hotel\n",
      "North Park , Maple Leaf Park , Upwood Park\n",
      "Humber Summit\n",
      "Cliffside , Cliffcrest , Scarborough Village West\n",
      "Willowdale , Newtonbrook\n",
      "DownsviewCentral\n",
      "Studio District\n",
      "Bedford Park , Lawrence Manor East\n",
      "Del Ray , Mount Dennis , Keelsdale and Silverthorn\n",
      "Humberlea , Emery\n",
      "Birch Cliff , Cliffside West\n",
      "WillowdaleSouth\n",
      "DownsviewNorthwest\n",
      "Lawrence Park\n",
      "Roselawn\n",
      "Runnymede , The Junction North\n",
      "Weston\n",
      "Dorset Park , Wexford Heights , Scarborough Town Centre\n",
      "York Mills West\n",
      "Davisville North\n",
      "Forest Hill North & West\n",
      "High Park , The Junction South\n",
      "Westmount\n",
      "Wexford , Maryvale\n",
      "WillowdaleWest\n",
      "North Toronto West\n",
      "The Annex , North Midtown , Yorkville\n",
      "Parkdale , Roncesvalles\n",
      "Enclave of L4W\n",
      "Kingsview Village , St. Phillips , Martin Grove Gardens , Richview Gardens\n",
      "Agincourt \n",
      "Davisville\n",
      "University of Toronto , Harbord\n",
      "Runnymede , Swansea\n",
      "Clarks Corners , Tam O'Shanter , Sullivan\n",
      "Moore Park , Summerhill East\n",
      "Kensington Market , Chinatown , Grange Park\n",
      "Milliken , Agincourt North , Steeles East , L'Amoreaux East\n",
      "Summerhill West , Rathnelly , South Hill , Forest Hill SE , Deer Park\n",
      "CN Tower , King and Spadina , Railway Lands , Harbourfront West , Bathurst Quay , South Niagara , Island airport\n",
      "New Toronto , Mimico South , Humber Bay Shores\n",
      "South Steeles , Silverstone , Humbergate , Jamestown , Mount Olive , Beaumond Heights , Thistletown , Albion Gardens\n",
      "Steeles West , L'Amoreaux West\n",
      "Rosedale\n",
      "Enclave of M5E\n",
      "Alderwood , Long Branch\n",
      "Clairville , Humberwood , Woodbine Downs , West Humber , Kipling Heights , Rexdale , Elms , Tandridge , Old Rexdale\n",
      "Upper Rouge\n",
      "St. James Town , Cabbagetown\n",
      "First Canadian Place , Underground city\n",
      "The Kingsway , Montgomery Road , Old Mill North\n",
      "Church and Wellesley\n",
      "Enclave of M4L\n",
      "Old Mill South , King's Mill Park , Sunnylea , Humber Bay , Mimico NE , The Queensway East , Royal York South East , Kingsway Park South East\n",
      "Mimico NW , The Queensway West , South of Bloor , Kingsway Park South West , Royal York South West\n"
     ]
    }
   ],
   "source": [
    "toronto_venues = getNearbyVenues(names=df_can['Neighborhood'],\n",
    "                                   latitudes=df_can['Latitude'],\n",
    "                                   longitudes=df_can['Longitude']\n",
    "                                  )"
   ]
  },
  {
   "cell_type": "markdown",
   "metadata": {},
   "source": [
    "**Our new dataset**"
   ]
  },
  {
   "cell_type": "code",
   "execution_count": 137,
   "metadata": {
    "scrolled": true
   },
   "outputs": [
    {
     "data": {
      "text/html": [
       "<div>\n",
       "<style scoped>\n",
       "    .dataframe tbody tr th:only-of-type {\n",
       "        vertical-align: middle;\n",
       "    }\n",
       "\n",
       "    .dataframe tbody tr th {\n",
       "        vertical-align: top;\n",
       "    }\n",
       "\n",
       "    .dataframe thead th {\n",
       "        text-align: right;\n",
       "    }\n",
       "</style>\n",
       "<table border=\"1\" class=\"dataframe\">\n",
       "  <thead>\n",
       "    <tr style=\"text-align: right;\">\n",
       "      <th></th>\n",
       "      <th>Neighborhood</th>\n",
       "      <th>Neighborhood Latitude</th>\n",
       "      <th>Neighborhood Longitude</th>\n",
       "      <th>Venue</th>\n",
       "      <th>Venue Latitude</th>\n",
       "      <th>Venue Longitude</th>\n",
       "      <th>Venue Category</th>\n",
       "    </tr>\n",
       "  </thead>\n",
       "  <tbody>\n",
       "    <tr>\n",
       "      <th>0</th>\n",
       "      <td>Parkwoods</td>\n",
       "      <td>43.753259</td>\n",
       "      <td>-79.329656</td>\n",
       "      <td>Brookbanks Park</td>\n",
       "      <td>43.751976</td>\n",
       "      <td>-79.332140</td>\n",
       "      <td>Park</td>\n",
       "    </tr>\n",
       "    <tr>\n",
       "      <th>1</th>\n",
       "      <td>Parkwoods</td>\n",
       "      <td>43.753259</td>\n",
       "      <td>-79.329656</td>\n",
       "      <td>Variety Store</td>\n",
       "      <td>43.751974</td>\n",
       "      <td>-79.333114</td>\n",
       "      <td>Food &amp; Drink Shop</td>\n",
       "    </tr>\n",
       "    <tr>\n",
       "      <th>2</th>\n",
       "      <td>Victoria Village</td>\n",
       "      <td>43.725882</td>\n",
       "      <td>-79.315572</td>\n",
       "      <td>Victoria Village Arena</td>\n",
       "      <td>43.723481</td>\n",
       "      <td>-79.315635</td>\n",
       "      <td>Hockey Arena</td>\n",
       "    </tr>\n",
       "    <tr>\n",
       "      <th>3</th>\n",
       "      <td>Victoria Village</td>\n",
       "      <td>43.725882</td>\n",
       "      <td>-79.315572</td>\n",
       "      <td>Tim Hortons</td>\n",
       "      <td>43.725517</td>\n",
       "      <td>-79.313103</td>\n",
       "      <td>Coffee Shop</td>\n",
       "    </tr>\n",
       "    <tr>\n",
       "      <th>4</th>\n",
       "      <td>Victoria Village</td>\n",
       "      <td>43.725882</td>\n",
       "      <td>-79.315572</td>\n",
       "      <td>Portugril</td>\n",
       "      <td>43.725819</td>\n",
       "      <td>-79.312785</td>\n",
       "      <td>Portuguese Restaurant</td>\n",
       "    </tr>\n",
       "  </tbody>\n",
       "</table>\n",
       "</div>"
      ],
      "text/plain": [
       "       Neighborhood  Neighborhood Latitude  Neighborhood Longitude  \\\n",
       "0         Parkwoods              43.753259              -79.329656   \n",
       "1         Parkwoods              43.753259              -79.329656   \n",
       "2  Victoria Village              43.725882              -79.315572   \n",
       "3  Victoria Village              43.725882              -79.315572   \n",
       "4  Victoria Village              43.725882              -79.315572   \n",
       "\n",
       "                    Venue  Venue Latitude  Venue Longitude  \\\n",
       "0         Brookbanks Park       43.751976       -79.332140   \n",
       "1           Variety Store       43.751974       -79.333114   \n",
       "2  Victoria Village Arena       43.723481       -79.315635   \n",
       "3             Tim Hortons       43.725517       -79.313103   \n",
       "4               Portugril       43.725819       -79.312785   \n",
       "\n",
       "          Venue Category  \n",
       "0                   Park  \n",
       "1      Food & Drink Shop  \n",
       "2           Hockey Arena  \n",
       "3            Coffee Shop  \n",
       "4  Portuguese Restaurant  "
      ]
     },
     "execution_count": 137,
     "metadata": {},
     "output_type": "execute_result"
    }
   ],
   "source": [
    "toronto_venues.head()"
   ]
  },
  {
   "cell_type": "code",
   "execution_count": 138,
   "metadata": {},
   "outputs": [
    {
     "data": {
      "text/plain": [
       "(2247, 7)"
      ]
     },
     "execution_count": 138,
     "metadata": {},
     "output_type": "execute_result"
    }
   ],
   "source": [
    "toronto_venues.shape"
   ]
  },
  {
   "cell_type": "markdown",
   "metadata": {},
   "source": [
    "**Let's check how many venues were returned for each neighborhood**"
   ]
  },
  {
   "cell_type": "code",
   "execution_count": 157,
   "metadata": {},
   "outputs": [
    {
     "data": {
      "text/html": [
       "<div>\n",
       "<style scoped>\n",
       "    .dataframe tbody tr th:only-of-type {\n",
       "        vertical-align: middle;\n",
       "    }\n",
       "\n",
       "    .dataframe tbody tr th {\n",
       "        vertical-align: top;\n",
       "    }\n",
       "\n",
       "    .dataframe thead th {\n",
       "        text-align: right;\n",
       "    }\n",
       "</style>\n",
       "<table border=\"1\" class=\"dataframe\">\n",
       "  <thead>\n",
       "    <tr style=\"text-align: right;\">\n",
       "      <th></th>\n",
       "      <th>Venue</th>\n",
       "    </tr>\n",
       "    <tr>\n",
       "      <th>Neighborhood</th>\n",
       "      <th></th>\n",
       "    </tr>\n",
       "  </thead>\n",
       "  <tbody>\n",
       "    <tr>\n",
       "      <th>Agincourt</th>\n",
       "      <td>5</td>\n",
       "    </tr>\n",
       "    <tr>\n",
       "      <th>Alderwood , Long Branch</th>\n",
       "      <td>9</td>\n",
       "    </tr>\n",
       "    <tr>\n",
       "      <th>Bathurst Manor , Wilson Heights , Downsview North</th>\n",
       "      <td>21</td>\n",
       "    </tr>\n",
       "    <tr>\n",
       "      <th>Bayview Village</th>\n",
       "      <td>4</td>\n",
       "    </tr>\n",
       "    <tr>\n",
       "      <th>Bedford Park , Lawrence Manor East</th>\n",
       "      <td>26</td>\n",
       "    </tr>\n",
       "  </tbody>\n",
       "</table>\n",
       "</div>"
      ],
      "text/plain": [
       "                                                   Venue\n",
       "Neighborhood                                            \n",
       "Agincourt                                              5\n",
       "Alderwood , Long Branch                                9\n",
       "Bathurst Manor , Wilson Heights , Downsview North     21\n",
       "Bayview Village                                        4\n",
       "Bedford Park , Lawrence Manor East                    26"
      ]
     },
     "execution_count": 157,
     "metadata": {},
     "output_type": "execute_result"
    }
   ],
   "source": [
    "neigh_venue = toronto_venues.groupby('Neighborhood')['Venue'].count()\n",
    "neigh_venue.to_frame()[0:5]"
   ]
  },
  {
   "cell_type": "markdown",
   "metadata": {},
   "source": [
    "**Let's find out how many unique categories can be curated from all the returned venues**"
   ]
  },
  {
   "cell_type": "code",
   "execution_count": 164,
   "metadata": {},
   "outputs": [
    {
     "name": "stdout",
     "output_type": "stream",
     "text": [
      "There are 274 unique venue categories\n"
     ]
    }
   ],
   "source": [
    "print('There are {} unique venue categories'.format(len(toronto_venues['Venue Category'].unique())))"
   ]
  },
  {
   "cell_type": "code",
   "execution_count": null,
   "metadata": {},
   "outputs": [],
   "source": []
  }
 ],
 "metadata": {
  "kernelspec": {
   "display_name": "Python 3",
   "language": "python",
   "name": "python3"
  },
  "language_info": {
   "codemirror_mode": {
    "name": "ipython",
    "version": 3
   },
   "file_extension": ".py",
   "mimetype": "text/x-python",
   "name": "python",
   "nbconvert_exporter": "python",
   "pygments_lexer": "ipython3",
   "version": "3.7.0"
  }
 },
 "nbformat": 4,
 "nbformat_minor": 1
}
